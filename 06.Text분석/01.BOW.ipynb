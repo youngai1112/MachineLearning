{
 "cells": [
  {
   "cell_type": "markdown",
   "metadata": {},
   "source": [
    "# Bag of Words"
   ]
  },
  {
   "cell_type": "markdown",
   "metadata": {},
   "source": [
    "### 1. Count Vectorizer"
   ]
  },
  {
   "cell_type": "code",
   "execution_count": 6,
   "metadata": {},
   "outputs": [],
   "source": [
    "# CountVectorizer == Class이기 때문에 객체 생성해서 사용해야 한다.\n",
    "# 텍스트 정규화에 많이 쓰인다!\n",
    "from sklearn.feature_extraction.text import CountVectorizer\n",
    "\n",
    "# corpus == 단어 말뭉치 \n",
    "# corpus = 'Grow your data science skills by competing in our exciting competitions.'\n",
    "corpus = ['Grow your data science skills by competing in our exciting competitions.']\n"
   ]
  },
  {
   "cell_type": "code",
   "execution_count": 7,
   "metadata": {},
   "outputs": [
    {
     "data": {
      "text/plain": [
       "{'analyzer': 'word',\n",
       " 'binary': False,\n",
       " 'decode_error': 'strict',\n",
       " 'dtype': numpy.int64,\n",
       " 'encoding': 'utf-8',\n",
       " 'input': 'content',\n",
       " 'lowercase': True,\n",
       " 'max_df': 1.0,\n",
       " 'max_features': None,\n",
       " 'min_df': 1,\n",
       " 'ngram_range': (1, 1),\n",
       " 'preprocessor': None,\n",
       " 'stop_words': None,\n",
       " 'strip_accents': None,\n",
       " 'token_pattern': '(?u)\\\\b\\\\w\\\\w+\\\\b',\n",
       " 'tokenizer': None,\n",
       " 'vocabulary': None}"
      ]
     },
     "execution_count": 7,
     "metadata": {},
     "output_type": "execute_result"
    }
   ],
   "source": [
    "# 객체 생성해서 사용해보자!\n",
    "cvect = CountVectorizer()\n",
    "cvect.get_params() # CountVectorizer의 파라미터 출력"
   ]
  },
  {
   "cell_type": "code",
   "execution_count": 8,
   "metadata": {},
   "outputs": [
    {
     "data": {
      "text/plain": [
       "<1x11 sparse matrix of type '<class 'numpy.int64'>'\n",
       "\twith 11 stored elements in Compressed Sparse Row format>"
      ]
     },
     "execution_count": 8,
     "metadata": {},
     "output_type": "execute_result"
    }
   ],
   "source": [
    "# ValueError: Iterable over raw text documents expected, string object received. \n",
    "# Fit_transform에 넣는 입력값이 string이어서 생긴 에러로, input string 대신 list로 넣어주면 된다.\n",
    "# 출처: https://aigong.tistory.com/53\n",
    "# 희소행렬과 상관없이 사용가능한 함수\n",
    "output = cvect.fit_transform(corpus)\n",
    "output"
   ]
  },
  {
   "cell_type": "code",
   "execution_count": 9,
   "metadata": {},
   "outputs": [
    {
     "data": {
      "text/plain": [
       "array([[1, 1, 1, 1, 1, 1, 1, 1, 1, 1, 1]], dtype=int64)"
      ]
     },
     "execution_count": 9,
     "metadata": {},
     "output_type": "execute_result"
    }
   ],
   "source": [
    "output.toarray()"
   ]
  },
  {
   "cell_type": "code",
   "execution_count": 10,
   "metadata": {},
   "outputs": [
    {
     "data": {
      "text/plain": [
       "{'grow': 5,\n",
       " 'your': 10,\n",
       " 'data': 3,\n",
       " 'science': 8,\n",
       " 'skills': 9,\n",
       " 'by': 0,\n",
       " 'competing': 1,\n",
       " 'in': 6,\n",
       " 'our': 7,\n",
       " 'exciting': 4,\n",
       " 'competitions': 2}"
      ]
     },
     "execution_count": 10,
     "metadata": {},
     "output_type": "execute_result"
    }
   ],
   "source": [
    "# 테스트 attribute: 알파벳 순서대로 sorting \n",
    "cvect.vocabulary_"
   ]
  },
  {
   "cell_type": "markdown",
   "metadata": {},
   "source": [
    "- 불용어(Stopwords) 제거"
   ]
  },
  {
   "cell_type": "code",
   "execution_count": 11,
   "metadata": {},
   "outputs": [
    {
     "name": "stdout",
     "output_type": "stream",
     "text": [
      "[[1 1 1 1 1 1 1 1]]\n",
      "{'grow': 4, 'your': 7, 'data': 2, 'science': 5, 'skills': 6, 'competing': 0, 'exciting': 3, 'competitions': 1}\n"
     ]
    }
   ],
   "source": [
    "# 자체 제거\n",
    "cvect = CountVectorizer(stop_words=['by', 'in', 'our']) # 불용어 지정 가능\n",
    "print(cvect.fit_transform(corpus).toarray())\n",
    "print(cvect.vocabulary_)"
   ]
  },
  {
   "cell_type": "code",
   "execution_count": 12,
   "metadata": {},
   "outputs": [
    {
     "name": "stdout",
     "output_type": "stream",
     "text": [
      "[[1 1 1 1 1 1 1]]\n",
      "{'grow': 4, 'data': 2, 'science': 5, 'skills': 6, 'competing': 0, 'exciting': 3, 'competitions': 1}\n"
     ]
    }
   ],
   "source": [
    "# Scikit-Learn에서 제공하는 불용어 사용\n",
    "cvect = CountVectorizer(stop_words='english')\n",
    "print(cvect.fit_transform(corpus).toarray())\n",
    "print(cvect.vocabulary_)"
   ]
  },
  {
   "cell_type": "code",
   "execution_count": 1,
   "metadata": {},
   "outputs": [
    {
     "name": "stdout",
     "output_type": "stream",
     "text": [
      "showing info https://raw.githubusercontent.com/nltk/nltk_data/gh-pages/index.xml\n"
     ]
    },
    {
     "data": {
      "text/plain": [
       "True"
      ]
     },
     "execution_count": 1,
     "metadata": {},
     "output_type": "execute_result"
    }
   ],
   "source": [
    "# 최초로 nltk 작업을 할 경우에는 punkt, stopwords 모듈을 다운로드 받는다.\n",
    "import nltk \n",
    "nltk.download()"
   ]
  },
  {
   "cell_type": "code",
   "execution_count": 13,
   "metadata": {},
   "outputs": [
    {
     "data": {
      "text/plain": [
       "(179, list)"
      ]
     },
     "execution_count": 13,
     "metadata": {},
     "output_type": "execute_result"
    }
   ],
   "source": [
    "# NLTK에서 제공하는 불용어 사용\n",
    "from nltk.corpus import stopwords\n",
    "sw = stopwords.words('english')\n",
    "len(sw), type(sw)"
   ]
  },
  {
   "cell_type": "code",
   "execution_count": 14,
   "metadata": {},
   "outputs": [
    {
     "name": "stdout",
     "output_type": "stream",
     "text": [
      "[[1 1 1 1 1 1 1]]\n",
      "{'grow': 4, 'data': 2, 'science': 5, 'skills': 6, 'competing': 0, 'exciting': 3, 'competitions': 1}\n"
     ]
    }
   ],
   "source": [
    "cvect = CountVectorizer(stop_words=sw)\n",
    "print(cvect.fit_transform(corpus).toarray())\n",
    "print(cvect.vocabulary_)"
   ]
  },
  {
   "cell_type": "markdown",
   "metadata": {},
   "source": [
    "- 인덱스에 해당하는 단어는 무엇인지 알려주는 함수"
   ]
  },
  {
   "cell_type": "code",
   "execution_count": 15,
   "metadata": {},
   "outputs": [
    {
     "name": "stdout",
     "output_type": "stream",
     "text": [
      "grow 4\n",
      "data 2\n",
      "science 5\n",
      "skills 6\n",
      "competing 0\n",
      "exciting 3\n",
      "competitions 1\n"
     ]
    }
   ],
   "source": [
    "# 딕셔너리 반복문\n",
    "voca = cvect.vocabulary_\n",
    "\n",
    "    # for key in voca:              --- 별로 좋은 방법은 아니다\n",
    "    #     print(key, voca[key])\n",
    "\n",
    "for key in voca.keys():             # 더 명확하게 설정\n",
    "    print(key, voca[key])"
   ]
  },
  {
   "cell_type": "code",
   "execution_count": 16,
   "metadata": {},
   "outputs": [
    {
     "name": "stdout",
     "output_type": "stream",
     "text": [
      "grow 4\n",
      "data 2\n",
      "science 5\n",
      "skills 6\n",
      "competing 0\n",
      "exciting 3\n",
      "competitions 1\n"
     ]
    }
   ],
   "source": [
    "for key, value in voca.items():     # key와 value를 동시에 추출\n",
    "    print(key, value)"
   ]
  },
  {
   "cell_type": "code",
   "execution_count": 17,
   "metadata": {},
   "outputs": [
    {
     "data": {
      "text/plain": [
       "'science'"
      ]
     },
     "execution_count": 17,
     "metadata": {},
     "output_type": "execute_result"
    }
   ],
   "source": [
    "def get_word(index, voca):\n",
    "                                # 단어를 리턴\n",
    "                                # dic에서 반복문을 쓸 수 있는 방법을 알아야 한다. => 리스트만큼 편리하지는 않다.\n",
    "    for key in voca:\n",
    "        if voca[key] == index:\n",
    "            return key\n",
    "\n",
    "get_word(5, voca)"
   ]
  },
  {
   "cell_type": "code",
   "execution_count": 18,
   "metadata": {},
   "outputs": [
    {
     "data": {
      "text/plain": [
       "'science'"
      ]
     },
     "execution_count": 18,
     "metadata": {},
     "output_type": "execute_result"
    }
   ],
   "source": [
    "def get_word(index, voca):\n",
    "    for key, value in voca.items():\n",
    "        if value == index:\n",
    "            return key\n",
    "\n",
    "get_word(5, cvect.vocabulary_)"
   ]
  },
  {
   "cell_type": "markdown",
   "metadata": {},
   "source": [
    "- N-gram\n",
    "    - BOW의 단점을 보강"
   ]
  },
  {
   "cell_type": "code",
   "execution_count": 19,
   "metadata": {},
   "outputs": [
    {
     "name": "stdout",
     "output_type": "stream",
     "text": [
      "[[1 1 1 1 1]]\n",
      "{'work': 3, 'at': 0, 'google': 2, 'work at': 4, 'at google': 1}\n"
     ]
    }
   ],
   "source": [
    "text = ['I work at google.']\n",
    "cvect = CountVectorizer(ngram_range=(1,2))\n",
    "print(cvect.fit_transform(text).toarray())\n",
    "print(cvect.vocabulary_)"
   ]
  },
  {
   "cell_type": "code",
   "execution_count": 20,
   "metadata": {},
   "outputs": [
    {
     "name": "stdout",
     "output_type": "stream",
     "text": [
      "[[1 1 1 1 1]]\n",
      "{'google': 2, 'at': 0, 'work': 4, 'google at': 3, 'at work': 1}\n"
     ]
    }
   ],
   "source": [
    "text = ['I google at work.']\n",
    "cvect = CountVectorizer(ngram_range=(1,2))\n",
    "print(cvect.fit_transform(text).toarray())\n",
    "print(cvect.vocabulary_)"
   ]
  },
  {
   "cell_type": "code",
   "execution_count": 21,
   "metadata": {},
   "outputs": [
    {
     "name": "stdout",
     "output_type": "stream",
     "text": [
      "[[1 1 0 1 0 1 1]\n",
      " [1 0 1 1 1 1 0]]\n",
      "{'work': 5, 'at': 0, 'google': 3, 'work at': 6, 'at google': 1, 'google at': 4, 'at work': 2}\n"
     ]
    }
   ],
   "source": [
    "text = ['I work at google', 'I google at work.']\n",
    "cvect = CountVectorizer(ngram_range=(1,2))\n",
    "print(cvect.fit_transform(text).toarray())\n",
    "print(cvect.vocabulary_)"
   ]
  },
  {
   "cell_type": "markdown",
   "metadata": {},
   "source": [
    "### 2. TF-IDF Vectorizer"
   ]
  },
  {
   "cell_type": "code",
   "execution_count": 22,
   "metadata": {},
   "outputs": [],
   "source": [
    "from sklearn.feature_extraction.text import TfidfVectorizer\n",
    "corpus = ['you know I want your love', 'I like you', 'what should I do']"
   ]
  },
  {
   "cell_type": "code",
   "execution_count": 24,
   "metadata": {},
   "outputs": [
    {
     "name": "stdout",
     "output_type": "stream",
     "text": [
      "[[0 1 0 1 0 1 0 1 1]\n",
      " [0 0 1 0 0 0 0 1 0]\n",
      " [1 0 0 0 1 0 1 0 0]]\n",
      "{'you': 7, 'know': 1, 'want': 5, 'your': 8, 'love': 3, 'like': 2, 'what': 6, 'should': 4, 'do': 0}\n"
     ]
    }
   ],
   "source": [
    "cvect = CountVectorizer()\n",
    "print(cvect.fit_transform(corpus).toarray())\n",
    "print(cvect.vocabulary_)"
   ]
  },
  {
   "cell_type": "code",
   "execution_count": 25,
   "metadata": {},
   "outputs": [
    {
     "name": "stdout",
     "output_type": "stream",
     "text": [
      "[[0.         0.46735098 0.         0.46735098 0.         0.46735098\n",
      "  0.         0.35543247 0.46735098]\n",
      " [0.         0.         0.79596054 0.         0.         0.\n",
      "  0.         0.60534851 0.        ]\n",
      " [0.57735027 0.         0.         0.         0.57735027 0.\n",
      "  0.57735027 0.         0.        ]]\n",
      "{'you': 7, 'know': 1, 'want': 5, 'your': 8, 'love': 3, 'like': 2, 'what': 6, 'should': 4, 'do': 0}\n"
     ]
    }
   ],
   "source": [
    "tvect = TfidfVectorizer()\n",
    "print(tvect.fit_transform(corpus).toarray())\n",
    "print(tvect.vocabulary_)"
   ]
  },
  {
   "cell_type": "code",
   "execution_count": 26,
   "metadata": {},
   "outputs": [
    {
     "name": "stdout",
     "output_type": "stream",
     "text": [
      "[[0.4472136 0.4472136 0.        0.4472136 0.4472136 0.4472136]\n",
      " [0.        0.        1.        0.        0.        0.       ]\n",
      " [0.        0.        0.        0.        0.        0.       ]]\n",
      "{'know': 0, 'want': 4, 'love': 3, 'know want': 1, 'want love': 5, 'like': 2}\n"
     ]
    }
   ],
   "source": [
    "# what should I  do 같은 문장은 전부 불용어로 처리되었다. \n",
    "tvect = TfidfVectorizer(stop_words='english', ngram_range=(1,2))\n",
    "print(tvect.fit_transform(corpus).toarray())\n",
    "print(tvect.vocabulary_)"
   ]
  },
  {
   "cell_type": "code",
   "execution_count": 27,
   "metadata": {},
   "outputs": [
    {
     "data": {
      "text/plain": [
       "{'analyzer': 'word',\n",
       " 'binary': False,\n",
       " 'decode_error': 'strict',\n",
       " 'dtype': numpy.float64,\n",
       " 'encoding': 'utf-8',\n",
       " 'input': 'content',\n",
       " 'lowercase': True,\n",
       " 'max_df': 1.0,\n",
       " 'max_features': None,\n",
       " 'min_df': 1,\n",
       " 'ngram_range': (1, 2),\n",
       " 'norm': 'l2',\n",
       " 'preprocessor': None,\n",
       " 'smooth_idf': True,\n",
       " 'stop_words': 'english',\n",
       " 'strip_accents': None,\n",
       " 'sublinear_tf': False,\n",
       " 'token_pattern': '(?u)\\\\b\\\\w\\\\w+\\\\b',\n",
       " 'tokenizer': None,\n",
       " 'use_idf': True,\n",
       " 'vocabulary': None}"
      ]
     },
     "execution_count": 27,
     "metadata": {},
     "output_type": "execute_result"
    }
   ],
   "source": [
    "tvect.get_params()"
   ]
  },
  {
   "cell_type": "code",
   "execution_count": null,
   "metadata": {},
   "outputs": [],
   "source": []
  }
 ],
 "metadata": {
  "interpreter": {
   "hash": "b3ba2566441a7c06988d0923437866b63cedc61552a5af99d1f4fb67d367b25f"
  },
  "kernelspec": {
   "display_name": "Python 3.8.8 64-bit ('base': conda)",
   "language": "python",
   "name": "python3"
  },
  "language_info": {
   "codemirror_mode": {
    "name": "ipython",
    "version": 3
   },
   "file_extension": ".py",
   "mimetype": "text/x-python",
   "name": "python",
   "nbconvert_exporter": "python",
   "pygments_lexer": "ipython3",
   "version": "3.8.8"
  },
  "orig_nbformat": 4
 },
 "nbformat": 4,
 "nbformat_minor": 2
}
