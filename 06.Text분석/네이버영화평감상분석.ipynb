{
 "cells": [
  {
   "cell_type": "code",
   "execution_count": 1,
   "metadata": {},
   "outputs": [],
   "source": [
    "import numpy as np\n",
    "import pandas as pd\n",
    "import warnings \n",
    "warnings.filterwarnings('ignore')"
   ]
  },
  {
   "cell_type": "markdown",
   "metadata": {},
   "source": [
    "- 데이터 가져오기"
   ]
  },
  {
   "cell_type": "code",
   "execution_count": 2,
   "metadata": {},
   "outputs": [
    {
     "data": {
      "text/plain": [
       "((150000, 3), (50000, 3))"
      ]
     },
     "execution_count": 2,
     "metadata": {},
     "output_type": "execute_result"
    }
   ],
   "source": [
    "train_df = pd.read_csv('https://raw.githubusercontent.com/e9t/nsmc/master/ratings_train.txt', sep='\\t')\n",
    "test_df = pd.read_csv('https://raw.githubusercontent.com/e9t/nsmc/master/ratings_test.txt', sep='\\t')\n",
    "train_df.shape, test_df.shape"
   ]
  },
  {
   "cell_type": "code",
   "execution_count": 3,
   "metadata": {},
   "outputs": [
    {
     "data": {
      "text/html": [
       "<div>\n",
       "<style scoped>\n",
       "    .dataframe tbody tr th:only-of-type {\n",
       "        vertical-align: middle;\n",
       "    }\n",
       "\n",
       "    .dataframe tbody tr th {\n",
       "        vertical-align: top;\n",
       "    }\n",
       "\n",
       "    .dataframe thead th {\n",
       "        text-align: right;\n",
       "    }\n",
       "</style>\n",
       "<table border=\"1\" class=\"dataframe\">\n",
       "  <thead>\n",
       "    <tr style=\"text-align: right;\">\n",
       "      <th></th>\n",
       "      <th>id</th>\n",
       "      <th>document</th>\n",
       "      <th>label</th>\n",
       "    </tr>\n",
       "  </thead>\n",
       "  <tbody>\n",
       "    <tr>\n",
       "      <th>0</th>\n",
       "      <td>9976970</td>\n",
       "      <td>아 더빙.. 진짜 짜증나네요 목소리</td>\n",
       "      <td>0</td>\n",
       "    </tr>\n",
       "    <tr>\n",
       "      <th>1</th>\n",
       "      <td>3819312</td>\n",
       "      <td>흠...포스터보고 초딩영화줄....오버연기조차 가볍지 않구나</td>\n",
       "      <td>1</td>\n",
       "    </tr>\n",
       "    <tr>\n",
       "      <th>2</th>\n",
       "      <td>10265843</td>\n",
       "      <td>너무재밓었다그래서보는것을추천한다</td>\n",
       "      <td>0</td>\n",
       "    </tr>\n",
       "    <tr>\n",
       "      <th>3</th>\n",
       "      <td>9045019</td>\n",
       "      <td>교도소 이야기구먼 ..솔직히 재미는 없다..평점 조정</td>\n",
       "      <td>0</td>\n",
       "    </tr>\n",
       "    <tr>\n",
       "      <th>4</th>\n",
       "      <td>6483659</td>\n",
       "      <td>사이몬페그의 익살스런 연기가 돋보였던 영화!스파이더맨에서 늙어보이기만 했던 커스틴 ...</td>\n",
       "      <td>1</td>\n",
       "    </tr>\n",
       "  </tbody>\n",
       "</table>\n",
       "</div>"
      ],
      "text/plain": [
       "         id                                           document  label\n",
       "0   9976970                                아 더빙.. 진짜 짜증나네요 목소리      0\n",
       "1   3819312                  흠...포스터보고 초딩영화줄....오버연기조차 가볍지 않구나      1\n",
       "2  10265843                                  너무재밓었다그래서보는것을추천한다      0\n",
       "3   9045019                      교도소 이야기구먼 ..솔직히 재미는 없다..평점 조정      0\n",
       "4   6483659  사이몬페그의 익살스런 연기가 돋보였던 영화!스파이더맨에서 늙어보이기만 했던 커스틴 ...      1"
      ]
     },
     "execution_count": 3,
     "metadata": {},
     "output_type": "execute_result"
    }
   ],
   "source": [
    "train_df.head(5)"
   ]
  },
  {
   "cell_type": "markdown",
   "metadata": {},
   "source": [
    "1. 데이터 가져오기\n",
    "2. 데이터 전처리\n",
    "    - 트레인 데이터세트와 테스트 데이터세트 준비 (과정 동일)\n",
    "        - 순서 (column1: document=> 감상평, column2: label => 긍정(0) /부정(1) )\n",
    "            - 1. Null 데이터 확인: DF.column1.isna().sum()\n",
    "            - 2. Null 데이터 제거: DF.dropna(how='any', inplace=True) -> shape 확인 (DF.shape - 1.) \n",
    "            - 3. 중복 여부 확인: DF.column1.nunique() => 2.에서 중복된 값을 제외한 실제값이 들어있는 부분 출력\n",
    "            - 4. 중복 데이터 제거: DF.drop_duplicates(subset=['column1'], inplace=True) -> shape 확인 (3.과 동일)\n",
    "            - 5. 데이터 분포 확인(긍정 / 부정): DF.column2.value_counts()\n",
    "3. 텍스트 전처리\n",
    "    - 트레인 데이터세트와 테스트 데이터세트 전처리 (과정 동일)\n",
    "        - 순서 \n",
    "            - 1. 한글 이외의 문자 공백처리하고 strip: DF.column1 = DF.column1.str.replace('[ㄱ-ㅎㅏ-ㅣ가-힣]').str.strip() -> DF.head() 확인\n",
    "                - 주의: 영어로 작성된 감상평이 있다면 정규표현식을 거치면서 공백처리됨: ''로 출력\n",
    "            - 2. '' -> np.nan -> 제거: DF.column1.replace('', np.nan, inplace=True) -> DF.column1.isna().sum()의 결과로 날아가는 데이터의 개수를 확인할 수 있다. \n",
    "            - 3. Null 데이터 제거: DF.dropna(how='any', inplace=True) -> DF.shape로 확인\n",
    "4. 데이터 저장 (train 데이터: DF1, test 데이터: DF2)\n",
    "    - DF1.to_csv('폴더명/파일이름_전처리완료.csv', sep='\\t', index=False)\n",
    "    - DF2.to_csv('폴더명/파일이름_전처리완료.csv', sep='\\t', index=False)\n",
    "    - 데이터 생성되었는지 확인\n",
    "5. 한글 처리 (SOYNLP 사용)\n",
    "    "
   ]
  },
  {
   "cell_type": "markdown",
   "metadata": {},
   "source": []
  }
 ],
 "metadata": {
  "interpreter": {
   "hash": "b3ba2566441a7c06988d0923437866b63cedc61552a5af99d1f4fb67d367b25f"
  },
  "kernelspec": {
   "display_name": "Python 3.8.8 64-bit ('base': conda)",
   "language": "python",
   "name": "python3"
  },
  "language_info": {
   "codemirror_mode": {
    "name": "ipython",
    "version": 3
   },
   "file_extension": ".py",
   "mimetype": "text/x-python",
   "name": "python",
   "nbconvert_exporter": "python",
   "pygments_lexer": "ipython3",
   "version": "3.8.8"
  },
  "orig_nbformat": 4
 },
 "nbformat": 4,
 "nbformat_minor": 2
}
