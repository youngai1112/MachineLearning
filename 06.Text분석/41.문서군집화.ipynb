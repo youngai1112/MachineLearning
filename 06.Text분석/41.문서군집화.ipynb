{
 "cells": [
  {
   "cell_type": "markdown",
   "metadata": {},
   "source": [
    "# 문서 군집화 - Opinion Review dataset"
   ]
  },
  {
   "cell_type": "markdown",
   "metadata": {},
   "source": [
    "데이터가 파일 단위로 들어가 있음 => 어떻게 처리하면 좋을까?"
   ]
  },
  {
   "cell_type": "code",
   "execution_count": 2,
   "metadata": {},
   "outputs": [
    {
     "data": {
      "text/plain": [
       "'OpinosisDataset1.0/topics\\\\*.data'"
      ]
     },
     "execution_count": 2,
     "metadata": {},
     "output_type": "execute_result"
    }
   ],
   "source": [
    "import pandas as pd\n",
    "import glob, os\n",
    "\n",
    "path = 'OpinosisDataset1.0/topics' # path는 폴더에 들어간 파일들을 설정 \n",
    "os.path.join(path, '*.data')       # 폴더에 들어간 확장자명이 '.data'로 동일\n",
    "                                   # Windows - \\\\, Mac - /"
   ]
  },
  {
   "cell_type": "code",
   "execution_count": 3,
   "metadata": {},
   "outputs": [
    {
     "data": {
      "text/plain": [
       "['OpinosisDataset1.0/topics\\\\accuracy_garmin_nuvi_255W_gps.txt.data',\n",
       " 'OpinosisDataset1.0/topics\\\\bathroom_bestwestern_hotel_sfo.txt.data',\n",
       " 'OpinosisDataset1.0/topics\\\\battery-life_amazon_kindle.txt.data',\n",
       " 'OpinosisDataset1.0/topics\\\\battery-life_ipod_nano_8gb.txt.data',\n",
       " 'OpinosisDataset1.0/topics\\\\battery-life_netbook_1005ha.txt.data']"
      ]
     },
     "execution_count": 3,
     "metadata": {},
     "output_type": "execute_result"
    }
   ],
   "source": [
    "# 파일이름이 리스트로 나와서 반복문을 사용할 수 있다. \n",
    "# asterisk: v* => v로 시작하는 것들, *.data => .data로 끝나는 것들\n",
    "all_files = glob.glob(os.path.join(path, '*.data'))\n",
    "all_files[:5]"
   ]
  },
  {
   "cell_type": "code",
   "execution_count": 4,
   "metadata": {},
   "outputs": [
    {
     "data": {
      "text/plain": [
       "'OpinosisDataset1.0/topics\\\\accuracy_garmin_nuvi_255W_gps.txt.data'"
      ]
     },
     "execution_count": 4,
     "metadata": {},
     "output_type": "execute_result"
    }
   ],
   "source": [
    "file = all_files[0]\n",
    "file"
   ]
  },
  {
   "cell_type": "code",
   "execution_count": 5,
   "metadata": {},
   "outputs": [
    {
     "data": {
      "text/plain": [
       "'accuracy_garmin_nuvi_255W_gps'"
      ]
     },
     "execution_count": 5,
     "metadata": {},
     "output_type": "execute_result"
    }
   ],
   "source": [
    "file.split('\\\\')[-1].split('.')[0]"
   ]
  },
  {
   "cell_type": "code",
   "execution_count": 6,
   "metadata": {},
   "outputs": [
    {
     "data": {
      "text/html": [
       "<div>\n",
       "<style scoped>\n",
       "    .dataframe tbody tr th:only-of-type {\n",
       "        vertical-align: middle;\n",
       "    }\n",
       "\n",
       "    .dataframe tbody tr th {\n",
       "        vertical-align: top;\n",
       "    }\n",
       "\n",
       "    .dataframe thead th {\n",
       "        text-align: right;\n",
       "    }\n",
       "</style>\n",
       "<table border=\"1\" class=\"dataframe\">\n",
       "  <thead>\n",
       "    <tr style=\"text-align: right;\">\n",
       "      <th></th>\n",
       "      <th>filename</th>\n",
       "      <th>opinion</th>\n",
       "    </tr>\n",
       "  </thead>\n",
       "  <tbody>\n",
       "    <tr>\n",
       "      <th>0</th>\n",
       "      <td>accuracy_garmin_nuvi_255W_gps</td>\n",
       "      <td>, and is very, very accurate .\\n but for the m...</td>\n",
       "    </tr>\n",
       "    <tr>\n",
       "      <th>1</th>\n",
       "      <td>bathroom_bestwestern_hotel_sfo</td>\n",
       "      <td>The room was not overly big, but clean and ve...</td>\n",
       "    </tr>\n",
       "    <tr>\n",
       "      <th>2</th>\n",
       "      <td>battery-life_amazon_kindle</td>\n",
       "      <td>After I plugged it in to my USB hub on my com...</td>\n",
       "    </tr>\n",
       "  </tbody>\n",
       "</table>\n",
       "</div>"
      ],
      "text/plain": [
       "                         filename  \\\n",
       "0   accuracy_garmin_nuvi_255W_gps   \n",
       "1  bathroom_bestwestern_hotel_sfo   \n",
       "2      battery-life_amazon_kindle   \n",
       "\n",
       "                                             opinion  \n",
       "0  , and is very, very accurate .\\n but for the m...  \n",
       "1   The room was not overly big, but clean and ve...  \n",
       "2   After I plugged it in to my USB hub on my com...  "
      ]
     },
     "execution_count": 6,
     "metadata": {},
     "output_type": "execute_result"
    }
   ],
   "source": [
    "# 리스트 컴프리헨션으로 만들 수 있다!\n",
    "filename_list = []\n",
    "opinion_text = []\n",
    "for file in glob.glob(os.path.join(path, '*.data')):        # all_files라는 변수가 헷갈릴 수 있음!\n",
    "    # 파일을 읽기 위한 3단계: open(<filename>) -> read(), write() : 작업 -> close() : 작업종료\n",
    "        # open() -> read(), write()만 하고 close()를 안한다면?\n",
    "        #   사용자가 혼자일 경우 문제는 없지만, 대형 서버의 경우, 서버의 사용자가 access한다면, 시스템에 있는 리소스가 계속 열려 있는 상태로 문제를 일으킬 소지가 있다\n",
    "        #   이를 방지하기 위해 python에서는 open()을 with로 쓰면 with문을 벗어나는 순간 파일이 자동으로 close된다 == 리소스 낭비를 막을 수 있다.\n",
    "    with open(file, encoding='latin1') as f:   # with는 keyword                                   \n",
    "        text = f.read()     # with문 안에서 인덴테이션? 해야 한다.\n",
    "    opinion_text.append(text)\n",
    "    filename = file.split('\\\\')[-1].split('.')[0]\n",
    "    filename_list.append(filename)\n",
    "\n",
    "df = pd.DataFrame({'filename':filename_list, 'opinion':opinion_text})\n",
    "df.head(3)"
   ]
  },
  {
   "cell_type": "markdown",
   "metadata": {},
   "source": [
    "- Simple tokenizer 함수를 이용해 feature 변환"
   ]
  },
  {
   "cell_type": "code",
   "execution_count": 7,
   "metadata": {},
   "outputs": [],
   "source": [
    "from nltk import word_tokenize\n",
    "\n",
    "def simple_tokenizer(text):             # 글자수가 2개 이하인 토큰은 제거\n",
    "    # word_list = word_tokenize(text)\n",
    "    # return word_list = [word for word in word_list if len(word) > 2]\n",
    "    return [word for word in word_tokenize(text) if len(word) > 2]      # 간결하게 코드를 쓸 수 있다면, 가급적 간결하게 쓰는 것이 좋다 ==> pythonic한 코드를 사용하자!\n",
    "    "
   ]
  },
  {
   "cell_type": "code",
   "execution_count": 8,
   "metadata": {},
   "outputs": [],
   "source": [
    "from sklearn.feature_extraction.text import TfidfVectorizer\n",
    "\n",
    "tvect = TfidfVectorizer(tokenizer=simple_tokenizer, stop_words='english',\n",
    "                        ngram_range=(1,2), min_df=0.05, max_df=0.85)\n",
    "feature = tvect.fit_transform(df.opinion)       # train, test 데이터가 따로 있지 않으므로 fit_transform을 사용                         "
   ]
  },
  {
   "cell_type": "markdown",
   "metadata": {},
   "source": [
    "- 군집화"
   ]
  },
  {
   "cell_type": "code",
   "execution_count": 18,
   "metadata": {},
   "outputs": [
    {
     "data": {
      "text/plain": [
       "KMeans(max_iter=10000, n_clusters=5, random_state=2022)"
      ]
     },
     "execution_count": 18,
     "metadata": {},
     "output_type": "execute_result"
    }
   ],
   "source": [
    "from sklearn.cluster import KMeans\n",
    "\n",
    "kmeans = KMeans(n_clusters=5, max_iter=10000, random_state=2022)\n",
    "kmeans.fit(feature)"
   ]
  },
  {
   "cell_type": "code",
   "execution_count": 19,
   "metadata": {},
   "outputs": [
    {
     "data": {
      "text/html": [
       "<div>\n",
       "<style scoped>\n",
       "    .dataframe tbody tr th:only-of-type {\n",
       "        vertical-align: middle;\n",
       "    }\n",
       "\n",
       "    .dataframe tbody tr th {\n",
       "        vertical-align: top;\n",
       "    }\n",
       "\n",
       "    .dataframe thead th {\n",
       "        text-align: right;\n",
       "    }\n",
       "</style>\n",
       "<table border=\"1\" class=\"dataframe\">\n",
       "  <thead>\n",
       "    <tr style=\"text-align: right;\">\n",
       "      <th></th>\n",
       "      <th>filename</th>\n",
       "      <th>opinion</th>\n",
       "      <th>cluster</th>\n",
       "    </tr>\n",
       "  </thead>\n",
       "  <tbody>\n",
       "    <tr>\n",
       "      <th>0</th>\n",
       "      <td>accuracy_garmin_nuvi_255W_gps</td>\n",
       "      <td>, and is very, very accurate .\\n but for the m...</td>\n",
       "      <td>0</td>\n",
       "    </tr>\n",
       "    <tr>\n",
       "      <th>1</th>\n",
       "      <td>bathroom_bestwestern_hotel_sfo</td>\n",
       "      <td>The room was not overly big, but clean and ve...</td>\n",
       "      <td>2</td>\n",
       "    </tr>\n",
       "    <tr>\n",
       "      <th>2</th>\n",
       "      <td>battery-life_amazon_kindle</td>\n",
       "      <td>After I plugged it in to my USB hub on my com...</td>\n",
       "      <td>1</td>\n",
       "    </tr>\n",
       "    <tr>\n",
       "      <th>3</th>\n",
       "      <td>battery-life_ipod_nano_8gb</td>\n",
       "      <td>short battery life  I moved up from an 8gb .\\...</td>\n",
       "      <td>1</td>\n",
       "    </tr>\n",
       "    <tr>\n",
       "      <th>4</th>\n",
       "      <td>battery-life_netbook_1005ha</td>\n",
       "      <td>6GHz 533FSB cpu, glossy display, 3, Cell 23Wh ...</td>\n",
       "      <td>1</td>\n",
       "    </tr>\n",
       "  </tbody>\n",
       "</table>\n",
       "</div>"
      ],
      "text/plain": [
       "                         filename  \\\n",
       "0   accuracy_garmin_nuvi_255W_gps   \n",
       "1  bathroom_bestwestern_hotel_sfo   \n",
       "2      battery-life_amazon_kindle   \n",
       "3      battery-life_ipod_nano_8gb   \n",
       "4     battery-life_netbook_1005ha   \n",
       "\n",
       "                                             opinion  cluster  \n",
       "0  , and is very, very accurate .\\n but for the m...        0  \n",
       "1   The room was not overly big, but clean and ve...        2  \n",
       "2   After I plugged it in to my USB hub on my com...        1  \n",
       "3   short battery life  I moved up from an 8gb .\\...        1  \n",
       "4  6GHz 533FSB cpu, glossy display, 3, Cell 23Wh ...        1  "
      ]
     },
     "execution_count": 19,
     "metadata": {},
     "output_type": "execute_result"
    }
   ],
   "source": [
    "# feature = tvect.fit_transform(df.opinion) \n",
    "# 군집화(비지도학습)은 train, test가 따로 없다 \n",
    "df['cluster'] = kmeans.labels_\n",
    "df.head()"
   ]
  },
  {
   "cell_type": "code",
   "execution_count": 20,
   "metadata": {},
   "outputs": [
    {
     "data": {
      "text/plain": [
       "2    16\n",
       "3    13\n",
       "4    10\n",
       "0     7\n",
       "1     5\n",
       "Name: cluster, dtype: int64"
      ]
     },
     "execution_count": 20,
     "metadata": {},
     "output_type": "execute_result"
    }
   ],
   "source": [
    "# 편향되게 분포 되어있는 것을 확인할 수 있다. \n",
    "df.cluster.value_counts()"
   ]
  },
  {
   "cell_type": "code",
   "execution_count": 32,
   "metadata": {},
   "outputs": [
    {
     "data": {
      "text/plain": [
       "0    25\n",
       "1    16\n",
       "2    10\n",
       "Name: cluster_label, dtype: int64"
      ]
     },
     "execution_count": 32,
     "metadata": {},
     "output_type": "execute_result"
    }
   ],
   "source": [
    "# 3개 집합으로 군집화\n",
    "kmeans = KMeans(n_clusters=3, max_iter=10000, random_state=2022)\n",
    "kmeans.fit(feature)\n",
    "df['cluster_label'] = kmeans.labels_\n",
    "df['cluster_label'].value_counts()"
   ]
  },
  {
   "cell_type": "markdown",
   "metadata": {},
   "source": [
    "- 군집별 핵심 단어 추출하기"
   ]
  },
  {
   "cell_type": "code",
   "execution_count": 33,
   "metadata": {},
   "outputs": [
    {
     "data": {
      "text/plain": [
       "(51, 4154)"
      ]
     },
     "execution_count": 33,
     "metadata": {},
     "output_type": "execute_result"
    }
   ],
   "source": [
    "feature.shape"
   ]
  },
  {
   "cell_type": "code",
   "execution_count": 34,
   "metadata": {},
   "outputs": [
    {
     "data": {
      "text/plain": [
       "(3, 4154)"
      ]
     },
     "execution_count": 34,
     "metadata": {},
     "output_type": "execute_result"
    }
   ],
   "source": [
    "cluster_centers = kmeans.cluster_centers_\n",
    "cluster_centers.shape"
   ]
  },
  {
   "cell_type": "code",
   "execution_count": 36,
   "metadata": {},
   "outputs": [],
   "source": [
    "from cluster import get_cluster_details     # cluster.py에 있는 함수 이름\n",
    "\n",
    "feature_names = tvect.get_feature_names()\n",
    "cluster_details = get_cluster_details(cluster_model=kmeans, cluster_data=df,\n",
    "                                      feature_names=feature_names, clusters_num=3, top_n_features=10)"
   ]
  },
  {
   "cell_type": "code",
   "execution_count": 37,
   "metadata": {},
   "outputs": [
    {
     "name": "stdout",
     "output_type": "stream",
     "text": [
      "####### Cluster 0\n",
      "Top features: ['screen', 'battery', 'battery life', 'keyboard', 'kindle', 'life', 'directions', 'size', 'voice', 'speed']\n",
      "Reviews 파일명: ['accuracy_garmin_nuvi_255W_gps', 'battery-life_amazon_kindle', 'battery-life_ipod_nano_8gb', 'battery-life_netbook_1005ha', 'buttons_amazon_kindle', 'directions_garmin_nuvi_255W_gps', 'display_garmin_nuvi_255W_gps']\n",
      "==================================================\n",
      "####### Cluster 1\n",
      "Top features: ['hotel', 'service', 'rooms', 'staff', 'room', 'food', 'location', 'clean', 'bathroom', 'parking']\n",
      "Reviews 파일명: ['bathroom_bestwestern_hotel_sfo', 'food_holiday_inn_london', 'food_swissotel_chicago', 'free_bestwestern_hotel_sfo', 'location_bestwestern_hotel_sfo', 'location_holiday_inn_london', 'parking_bestwestern_hotel_sfo']\n",
      "==================================================\n",
      "####### Cluster 2\n",
      "Top features: ['interior', 'mileage', 'seats', 'comfortable', 'gas', 'gas mileage', 'transmission', 'car', 'performance', 'quality']\n",
      "Reviews 파일명: ['comfort_honda_accord_2008', 'comfort_toyota_camry_2007', 'gas_mileage_toyota_camry_2007', 'interior_honda_accord_2008', 'interior_toyota_camry_2007', 'mileage_honda_accord_2008', 'performance_honda_accord_2008']\n",
      "==================================================\n"
     ]
    }
   ],
   "source": [
    "for cluster_num, cluster_detail in cluster_details.items():\n",
    "    print(f'####### Cluster {cluster_num}')\n",
    "    print('Top features:', cluster_detail['top_features'])\n",
    "    print('Reviews 파일명:', cluster_detail['filenames'][:7])\n",
    "    print('==================================================')"
   ]
  },
  {
   "cell_type": "code",
   "execution_count": null,
   "metadata": {},
   "outputs": [],
   "source": []
  }
 ],
 "metadata": {
  "interpreter": {
   "hash": "b3ba2566441a7c06988d0923437866b63cedc61552a5af99d1f4fb67d367b25f"
  },
  "kernelspec": {
   "display_name": "Python 3.8.8 64-bit ('base': conda)",
   "language": "python",
   "name": "python3"
  },
  "language_info": {
   "codemirror_mode": {
    "name": "ipython",
    "version": 3
   },
   "file_extension": ".py",
   "mimetype": "text/x-python",
   "name": "python",
   "nbconvert_exporter": "python",
   "pygments_lexer": "ipython3",
   "version": "3.8.8"
  },
  "orig_nbformat": 4
 },
 "nbformat": 4,
 "nbformat_minor": 2
}
