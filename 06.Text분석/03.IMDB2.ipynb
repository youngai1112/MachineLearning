{
 "cells": [
  {
   "cell_type": "markdown",
   "metadata": {},
   "source": [
    "# IMDB 영화평 감상분석"
   ]
  },
  {
   "cell_type": "markdown",
   "metadata": {},
   "source": [
    "- Pipeline\n",
    "- TfidfVectorizer + LogisticRegression"
   ]
  },
  {
   "cell_type": "code",
   "execution_count": 1,
   "metadata": {},
   "outputs": [],
   "source": [
    "import numpy as np\n",
    "import pandas as pd"
   ]
  },
  {
   "cell_type": "code",
   "execution_count": 2,
   "metadata": {},
   "outputs": [
    {
     "data": {
      "text/html": [
       "<div>\n",
       "<style scoped>\n",
       "    .dataframe tbody tr th:only-of-type {\n",
       "        vertical-align: middle;\n",
       "    }\n",
       "\n",
       "    .dataframe tbody tr th {\n",
       "        vertical-align: top;\n",
       "    }\n",
       "\n",
       "    .dataframe thead th {\n",
       "        text-align: right;\n",
       "    }\n",
       "</style>\n",
       "<table border=\"1\" class=\"dataframe\">\n",
       "  <thead>\n",
       "    <tr style=\"text-align: right;\">\n",
       "      <th></th>\n",
       "      <th>id</th>\n",
       "      <th>sentiment</th>\n",
       "      <th>review</th>\n",
       "    </tr>\n",
       "  </thead>\n",
       "  <tbody>\n",
       "    <tr>\n",
       "      <th>0</th>\n",
       "      <td>\"5814_8\"</td>\n",
       "      <td>1</td>\n",
       "      <td>\"With all this stuff going down at the moment ...</td>\n",
       "    </tr>\n",
       "    <tr>\n",
       "      <th>1</th>\n",
       "      <td>\"2381_9\"</td>\n",
       "      <td>1</td>\n",
       "      <td>\"\\\"The Classic War of the Worlds\\\" by Timothy ...</td>\n",
       "    </tr>\n",
       "    <tr>\n",
       "      <th>2</th>\n",
       "      <td>\"7759_3\"</td>\n",
       "      <td>0</td>\n",
       "      <td>\"The film starts with a manager (Nicholas Bell...</td>\n",
       "    </tr>\n",
       "  </tbody>\n",
       "</table>\n",
       "</div>"
      ],
      "text/plain": [
       "         id  sentiment                                             review\n",
       "0  \"5814_8\"          1  \"With all this stuff going down at the moment ...\n",
       "1  \"2381_9\"          1  \"\\\"The Classic War of the Worlds\\\" by Timothy ...\n",
       "2  \"7759_3\"          0  \"The film starts with a manager (Nicholas Bell..."
      ]
     },
     "execution_count": 2,
     "metadata": {},
     "output_type": "execute_result"
    }
   ],
   "source": [
    "df = pd.read_csv('data\\labeledTrainData.tsv\\labeledTrainData.tsv', sep='\\t', quoting=3)\n",
    "df.head(3)"
   ]
  },
  {
   "cell_type": "markdown",
   "metadata": {},
   "source": [
    "- 텍스트 전처리"
   ]
  },
  {
   "cell_type": "code",
   "execution_count": 3,
   "metadata": {},
   "outputs": [],
   "source": [
    "# <br /> 태그는 공백으로 처리\n",
    "df.review = df.review.str.replace('<br />', ' ')"
   ]
  },
  {
   "cell_type": "code",
   "execution_count": 4,
   "metadata": {},
   "outputs": [
    {
     "name": "stderr",
     "output_type": "stream",
     "text": [
      "<ipython-input-4-d620cd138012>:2: FutureWarning: The default value of regex will change from True to False in a future version.\n",
      "  df.review = df.review.str.replace('[^A-Za-z]', ' ').str.strip()\n"
     ]
    }
   ],
   "source": [
    "# 영문자 이외는 공백으로 변환\n",
    "df.review = df.review.str.replace('[^A-Za-z]', ' ').str.strip()"
   ]
  },
  {
   "cell_type": "markdown",
   "metadata": {},
   "source": [
    "- Train / Test dataset으로 분리"
   ]
  },
  {
   "cell_type": "code",
   "execution_count": 6,
   "metadata": {},
   "outputs": [],
   "source": [
    "from sklearn.model_selection import train_test_split\n",
    "X_train, X_test, y_train, y_test = train_test_split(\n",
    "    df.review, df.sentiment, stratify=df.sentiment, random_state=2022\n",
    ")"
   ]
  },
  {
   "cell_type": "markdown",
   "metadata": {},
   "source": [
    "- Pipeline: TfidfVectorizer + LogisticRegression"
   ]
  },
  {
   "cell_type": "markdown",
   "metadata": {},
   "source": [
    "----------------------"
   ]
  },
  {
   "cell_type": "code",
   "execution_count": null,
   "metadata": {},
   "outputs": [],
   "source": []
  },
  {
   "cell_type": "code",
   "execution_count": null,
   "metadata": {},
   "outputs": [],
   "source": []
  },
  {
   "cell_type": "code",
   "execution_count": null,
   "metadata": {},
   "outputs": [],
   "source": []
  },
  {
   "cell_type": "code",
   "execution_count": null,
   "metadata": {},
   "outputs": [],
   "source": []
  },
  {
   "cell_type": "code",
   "execution_count": null,
   "metadata": {},
   "outputs": [],
   "source": []
  },
  {
   "cell_type": "code",
   "execution_count": 2,
   "metadata": {},
   "outputs": [
    {
     "data": {
      "text/plain": [
       "'\\n\\nBefore all of the hype I wanted to see Spider-Man in the theater, and the hype just made me want to see it more. I didn\\'t know what to expect, but I certainly expected better than what I saw. Besides being a snooze fest, it was so sappy and saccharin I scheduled a dentist visit during the movie.\\n\\nThe movie started going wayward the moment Peter Parker (Tom Holland) went to Doctor Strange (Benedict Cumberbatch) for a spell to make everyone forget him. It wasn\\'t a bad idea for Peter to go to Doctor Strange to fix his little revealed-identity problem, it was just oddly dumb of Doctor Strange to actually accommodate Peter. Doctor Strange truly attempted to make everyone in the world forget who Peter Parker was. It was a massive spell that seemed very excessive just to fix one man\\'s problems. The movie went into silly mode as Parker kept interrupting Doctor Strange as he was doing the spell. The result was a host of old nemeses from different universes converging upon this universe to find Parker. If it was explained, it was explained poorly.\\n\\nAt this point the movie was on shaky ground, but it hadn\\'t given way. \"No Way Home\" would suffer another setback when Parker fought Strange to prevent him from sending all of these villains back to their respective universes. You see, if they were to go back then they\\'d meet death at the hands of, or because of, that universe\\'s Spider-Man, and this universe\\'s Spider-Man was way too moralistic to allow that to happen. No, Parker would fix it so that they could all go back home and they could all live happily ever after.\\n\\nEverything after this part of the movie was immaterial to me in the grand scheme. For me, when a plot is based upon a faulty or simply bad premise, everything that follows is equally faulty and meaningless. Not that the things that follow can\\'t be cool aesthetically; they\\'re just empty.\\n\\nParker was operating upon the righteous advice of his Aunt May (Marisa Tomei). Per her wisdom, Parker had an obligation to help these poor misguided men, no matter what the exponentially more knowledgeable Doctor Strange said. Doctor Strange wanted to do the most logical thing which was send each villain back to his own universe and let fate take over from there. Parker, with his oversized heart and undersized common sense, wanted to keep them in his own universe as pet projects until he could fix them, then send them back. Nevermind that he was going to be actively tampering with the course of events of another universe thereby massively altering their timelines with untold consequences, he simply wasn\\'t old enough, wise enough, or experienced enough to know what was the best thing to do. Furthermore, it was a slap in the face of the other Spider-Men. As if to say, \"You guys screwed up, I\\'m going to find a better, more wholesome solution because I\\'m a better Spider-Man\"\\n\\nI was so thoroughly perturbed by this new mission of Spider-Man\\'s to save these villains that everything after that began to annoy me. The attempts at comedy were awkward and grossly unfunny. The emotional moments were too often and too long. The final nail in the coffin of this was the runtime. Boy did they drag this out. I could put up with a didactic and flawed plot if you get us through it in a quick and exciting way, but in their attempts to have this grand send off for Spider-Man we had to suffer through an ocean of tears, a chasm of emotions, and an abundance of silence with slow music. I left the theater drained and upset as though I\\'d just been to the DMV. Everything was set up for them to reboot Spider-Man if needed, but at this point I could use a break and no more Spider-Men about \"home.\"\\n'"
      ]
     },
     "execution_count": 2,
     "metadata": {},
     "output_type": "execute_result"
    }
   ],
   "source": [
    "review = '''\n",
    "\\nBefore all of the hype I wanted to see Spider-Man in the theater, and the hype just made me want to see it more. I didn\\'t know what to expect, but I certainly expected better than what I saw. Besides being a snooze fest, it was so sappy and saccharin I scheduled a dentist visit during the movie.\\n\\nThe movie started going wayward the moment Peter Parker (Tom Holland) went to Doctor Strange (Benedict Cumberbatch) for a spell to make everyone forget him. It wasn\\'t a bad idea for Peter to go to Doctor Strange to fix his little revealed-identity problem, it was just oddly dumb of Doctor Strange to actually accommodate Peter. Doctor Strange truly attempted to make everyone in the world forget who Peter Parker was. It was a massive spell that seemed very excessive just to fix one man\\'s problems. The movie went into silly mode as Parker kept interrupting Doctor Strange as he was doing the spell. The result was a host of old nemeses from different universes converging upon this universe to find Parker. If it was explained, it was explained poorly.\\n\\nAt this point the movie was on shaky ground, but it hadn\\'t given way. \"No Way Home\" would suffer another setback when Parker fought Strange to prevent him from sending all of these villains back to their respective universes. You see, if they were to go back then they\\'d meet death at the hands of, or because of, that universe\\'s Spider-Man, and this universe\\'s Spider-Man was way too moralistic to allow that to happen. No, Parker would fix it so that they could all go back home and they could all live happily ever after.\\n\\nEverything after this part of the movie was immaterial to me in the grand scheme. For me, when a plot is based upon a faulty or simply bad premise, everything that follows is equally faulty and meaningless. Not that the things that follow can\\'t be cool aesthetically; they\\'re just empty.\\n\\nParker was operating upon the righteous advice of his Aunt May (Marisa Tomei). Per her wisdom, Parker had an obligation to help these poor misguided men, no matter what the exponentially more knowledgeable Doctor Strange said. Doctor Strange wanted to do the most logical thing which was send each villain back to his own universe and let fate take over from there. Parker, with his oversized heart and undersized common sense, wanted to keep them in his own universe as pet projects until he could fix them, then send them back. Nevermind that he was going to be actively tampering with the course of events of another universe thereby massively altering their timelines with untold consequences, he simply wasn\\'t old enough, wise enough, or experienced enough to know what was the best thing to do. Furthermore, it was a slap in the face of the other Spider-Men. As if to say, \"You guys screwed up, I\\'m going to find a better, more wholesome solution because I\\'m a better Spider-Man\"\\n\\nI was so thoroughly perturbed by this new mission of Spider-Man\\'s to save these villains that everything after that began to annoy me. The attempts at comedy were awkward and grossly unfunny. The emotional moments were too often and too long. The final nail in the coffin of this was the runtime. Boy did they drag this out. I could put up with a didactic and flawed plot if you get us through it in a quick and exciting way, but in their attempts to have this grand send off for Spider-Man we had to suffer through an ocean of tears, a chasm of emotions, and an abundance of silence with slow music. I left the theater drained and upset as though I\\'d just been to the DMV. Everything was set up for them to reboot Spider-Man if needed, but at this point I could use a break and no more Spider-Men about \"home.\"\\n'''\n",
    "\n",
    "review"
   ]
  },
  {
   "cell_type": "code",
   "execution_count": 3,
   "metadata": {},
   "outputs": [],
   "source": [
    "# 텍스트 전처리\n",
    "import re\n",
    "clean_review = re.sub('[^A-Za-z]', ' ', review).strip()"
   ]
  },
  {
   "cell_type": "code",
   "execution_count": 4,
   "metadata": {},
   "outputs": [
    {
     "ename": "NameError",
     "evalue": "name 'best_pipe' is not defined",
     "output_type": "error",
     "traceback": [
      "\u001b[1;31m---------------------------------------------------------------------------\u001b[0m",
      "\u001b[1;31mNameError\u001b[0m                                 Traceback (most recent call last)",
      "\u001b[1;32m<ipython-input-4-88fdc3f986c5>\u001b[0m in \u001b[0;36m<module>\u001b[1;34m\u001b[0m\n\u001b[1;32m----> 1\u001b[1;33m \u001b[0mbest_pipe\u001b[0m\u001b[1;33m.\u001b[0m\u001b[0mpredict\u001b[0m\u001b[1;33m(\u001b[0m\u001b[1;33m[\u001b[0m\u001b[0mclean_review\u001b[0m\u001b[1;33m]\u001b[0m\u001b[1;33m)\u001b[0m\u001b[1;33m\u001b[0m\u001b[1;33m\u001b[0m\u001b[0m\n\u001b[0m",
      "\u001b[1;31mNameError\u001b[0m: name 'best_pipe' is not defined"
     ]
    }
   ],
   "source": [
    "# pipeline 설정 부분 다시 보기!\n",
    "best_pipe.predict([clean_review])"
   ]
  },
  {
   "cell_type": "code",
   "execution_count": null,
   "metadata": {},
   "outputs": [],
   "source": []
  }
 ],
 "metadata": {
  "interpreter": {
   "hash": "b3ba2566441a7c06988d0923437866b63cedc61552a5af99d1f4fb67d367b25f"
  },
  "kernelspec": {
   "display_name": "Python 3.8.8 64-bit ('base': conda)",
   "language": "python",
   "name": "python3"
  },
  "language_info": {
   "codemirror_mode": {
    "name": "ipython",
    "version": 3
   },
   "file_extension": ".py",
   "mimetype": "text/x-python",
   "name": "python",
   "nbconvert_exporter": "python",
   "pygments_lexer": "ipython3",
   "version": "3.8.8"
  },
  "orig_nbformat": 4
 },
 "nbformat": 4,
 "nbformat_minor": 2
}
