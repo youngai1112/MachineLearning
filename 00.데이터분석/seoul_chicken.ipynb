{
 "cells": [
  {
   "cell_type": "markdown",
   "metadata": {},
   "source": [
    "- 데이터 출처: https://m.blog.naver.com/PostView.naver?blogId=upennsolution&logNo=222615184865&proxyReferer="
   ]
  },
  {
   "cell_type": "code",
   "execution_count": 45,
   "metadata": {},
   "outputs": [],
   "source": [
    "import numpy as np\n",
    "import pandas as pd\n",
    "import matplotlib.pyplot as plt\n",
    "import matplotlib.pyplot as mpl\n",
    "import seaborn as sns"
   ]
  },
  {
   "cell_type": "code",
   "execution_count": 46,
   "metadata": {},
   "outputs": [],
   "source": [
    "mpl.rcParams['axes.unicode_minus'] = False\n",
    "plt.rcParams['font.family'] = 'Malgun Gothic'"
   ]
  },
  {
   "cell_type": "code",
   "execution_count": 47,
   "metadata": {},
   "outputs": [
    {
     "data": {
      "text/html": [
       "<div>\n",
       "<style scoped>\n",
       "    .dataframe tbody tr th:only-of-type {\n",
       "        vertical-align: middle;\n",
       "    }\n",
       "\n",
       "    .dataframe tbody tr th {\n",
       "        vertical-align: top;\n",
       "    }\n",
       "\n",
       "    .dataframe thead th {\n",
       "        text-align: right;\n",
       "    }\n",
       "</style>\n",
       "<table border=\"1\" class=\"dataframe\">\n",
       "  <thead>\n",
       "    <tr style=\"text-align: right;\">\n",
       "      <th></th>\n",
       "      <th>업소명</th>\n",
       "      <th>프랜차이즈명</th>\n",
       "      <th>시/도</th>\n",
       "      <th>군/구</th>\n",
       "      <th>읍/면/동</th>\n",
       "      <th>상세주소</th>\n",
       "      <th>전화번호</th>\n",
       "    </tr>\n",
       "  </thead>\n",
       "  <tbody>\n",
       "    <tr>\n",
       "      <th>0</th>\n",
       "      <td>당신은지금치킨이땡긴다-논현2호점</td>\n",
       "      <td>당신은지금치킨이땡긴다</td>\n",
       "      <td>서울</td>\n",
       "      <td>강남구</td>\n",
       "      <td>논현동</td>\n",
       "      <td>108 논현웰스톤 지하2층 B201호 주방26호</td>\n",
       "      <td>5.035300e+10</td>\n",
       "    </tr>\n",
       "    <tr>\n",
       "      <th>1</th>\n",
       "      <td>당신은지금치킨이땡긴다-논현2호점</td>\n",
       "      <td>당신은지금치킨이땡긴다</td>\n",
       "      <td>서울</td>\n",
       "      <td>강남구</td>\n",
       "      <td>논현동</td>\n",
       "      <td>108 논현웰스톤 지하2층 B201호 주방26호</td>\n",
       "      <td>5.035300e+10</td>\n",
       "    </tr>\n",
       "    <tr>\n",
       "      <th>2</th>\n",
       "      <td>치킨이맛있는집-개포본점</td>\n",
       "      <td>NaN</td>\n",
       "      <td>서울</td>\n",
       "      <td>강남구</td>\n",
       "      <td>개포동</td>\n",
       "      <td>1222-11 1층 101,102호</td>\n",
       "      <td>5.035258e+10</td>\n",
       "    </tr>\n",
       "    <tr>\n",
       "      <th>3</th>\n",
       "      <td>맘스터치-포이사거리점</td>\n",
       "      <td>맘스터치</td>\n",
       "      <td>서울</td>\n",
       "      <td>강남구</td>\n",
       "      <td>개포동</td>\n",
       "      <td>1229-6 1층 101호</td>\n",
       "      <td>5.035289e+10</td>\n",
       "    </tr>\n",
       "    <tr>\n",
       "      <th>4</th>\n",
       "      <td>맘스터치-포이사거리점</td>\n",
       "      <td>맘스터치</td>\n",
       "      <td>서울</td>\n",
       "      <td>강남구</td>\n",
       "      <td>개포동</td>\n",
       "      <td>1229-6 1층 101호</td>\n",
       "      <td>5.035289e+10</td>\n",
       "    </tr>\n",
       "  </tbody>\n",
       "</table>\n",
       "</div>"
      ],
      "text/plain": [
       "                 업소명       프랜차이즈명 시/도  군/구 읍/면/동                        상세주소  \\\n",
       "0  당신은지금치킨이땡긴다-논현2호점  당신은지금치킨이땡긴다  서울  강남구   논현동  108 논현웰스톤 지하2층 B201호 주방26호   \n",
       "1  당신은지금치킨이땡긴다-논현2호점  당신은지금치킨이땡긴다  서울  강남구   논현동  108 논현웰스톤 지하2층 B201호 주방26호   \n",
       "2       치킨이맛있는집-개포본점          NaN  서울  강남구   개포동         1222-11 1층 101,102호   \n",
       "3        맘스터치-포이사거리점         맘스터치  서울  강남구   개포동              1229-6 1층 101호   \n",
       "4        맘스터치-포이사거리점         맘스터치  서울  강남구   개포동              1229-6 1층 101호   \n",
       "\n",
       "           전화번호  \n",
       "0  5.035300e+10  \n",
       "1  5.035300e+10  \n",
       "2  5.035258e+10  \n",
       "3  5.035289e+10  \n",
       "4  5.035289e+10  "
      ]
     },
     "execution_count": 47,
     "metadata": {},
     "output_type": "execute_result"
    }
   ],
   "source": [
    "seoul = pd.read_excel('서울_치킨업소_정보.xlsx')\n",
    "seoul.head()"
   ]
  },
  {
   "cell_type": "code",
   "execution_count": 48,
   "metadata": {},
   "outputs": [
    {
     "name": "stdout",
     "output_type": "stream",
     "text": [
      "<class 'pandas.core.frame.DataFrame'>\n",
      "RangeIndex: 1230 entries, 0 to 1229\n",
      "Data columns (total 7 columns):\n",
      " #   Column  Non-Null Count  Dtype  \n",
      "---  ------  --------------  -----  \n",
      " 0   업소명     1230 non-null   object \n",
      " 1   프랜차이즈명  819 non-null    object \n",
      " 2   시/도     1230 non-null   object \n",
      " 3   군/구     1230 non-null   object \n",
      " 4   읍/면/동   1230 non-null   object \n",
      " 5   상세주소    1230 non-null   object \n",
      " 6   전화번호    1028 non-null   float64\n",
      "dtypes: float64(1), object(6)\n",
      "memory usage: 67.4+ KB\n"
     ]
    }
   ],
   "source": [
    "# 데이터 프레임 정보 확인\n",
    "seoul.info()"
   ]
  },
  {
   "cell_type": "code",
   "execution_count": 49,
   "metadata": {},
   "outputs": [
    {
     "data": {
      "text/plain": [
       "업소명         0\n",
       "프랜차이즈명    411\n",
       "시/도         0\n",
       "군/구         0\n",
       "읍/면/동       0\n",
       "상세주소        0\n",
       "전화번호      202\n",
       "dtype: int64"
      ]
     },
     "execution_count": 49,
     "metadata": {},
     "output_type": "execute_result"
    }
   ],
   "source": [
    "# 결측치 확인\n",
    "seoul.isna().sum()"
   ]
  },
  {
   "cell_type": "code",
   "execution_count": 51,
   "metadata": {},
   "outputs": [
    {
     "data": {
      "text/html": [
       "<div>\n",
       "<style scoped>\n",
       "    .dataframe tbody tr th:only-of-type {\n",
       "        vertical-align: middle;\n",
       "    }\n",
       "\n",
       "    .dataframe tbody tr th {\n",
       "        vertical-align: top;\n",
       "    }\n",
       "\n",
       "    .dataframe thead th {\n",
       "        text-align: right;\n",
       "    }\n",
       "</style>\n",
       "<table border=\"1\" class=\"dataframe\">\n",
       "  <thead>\n",
       "    <tr style=\"text-align: right;\">\n",
       "      <th></th>\n",
       "      <th>업소명</th>\n",
       "      <th>프랜차이즈명</th>\n",
       "      <th>시/도</th>\n",
       "      <th>군/구</th>\n",
       "      <th>읍/면/동</th>\n",
       "      <th>상세주소</th>\n",
       "      <th>전화번호</th>\n",
       "    </tr>\n",
       "  </thead>\n",
       "  <tbody>\n",
       "    <tr>\n",
       "      <th>0</th>\n",
       "      <td>당신은지금치킨이땡긴다-논현2호점</td>\n",
       "      <td>당신은지금치킨이땡긴다</td>\n",
       "      <td>서울</td>\n",
       "      <td>강남구</td>\n",
       "      <td>논현동</td>\n",
       "      <td>108 논현웰스톤 지하2층 B201호 주방26호</td>\n",
       "      <td>5.035300e+10</td>\n",
       "    </tr>\n",
       "    <tr>\n",
       "      <th>1</th>\n",
       "      <td>당신은지금치킨이땡긴다-논현2호점</td>\n",
       "      <td>당신은지금치킨이땡긴다</td>\n",
       "      <td>서울</td>\n",
       "      <td>강남구</td>\n",
       "      <td>논현동</td>\n",
       "      <td>108 논현웰스톤 지하2층 B201호 주방26호</td>\n",
       "      <td>5.035300e+10</td>\n",
       "    </tr>\n",
       "    <tr>\n",
       "      <th>2</th>\n",
       "      <td>치킨이맛있는집-개포본점</td>\n",
       "      <td>치킨이맛있는집</td>\n",
       "      <td>서울</td>\n",
       "      <td>강남구</td>\n",
       "      <td>개포동</td>\n",
       "      <td>1222-11 1층 101,102호</td>\n",
       "      <td>5.035258e+10</td>\n",
       "    </tr>\n",
       "    <tr>\n",
       "      <th>3</th>\n",
       "      <td>맘스터치-포이사거리점</td>\n",
       "      <td>맘스터치</td>\n",
       "      <td>서울</td>\n",
       "      <td>강남구</td>\n",
       "      <td>개포동</td>\n",
       "      <td>1229-6 1층 101호</td>\n",
       "      <td>5.035289e+10</td>\n",
       "    </tr>\n",
       "    <tr>\n",
       "      <th>4</th>\n",
       "      <td>맘스터치-포이사거리점</td>\n",
       "      <td>맘스터치</td>\n",
       "      <td>서울</td>\n",
       "      <td>강남구</td>\n",
       "      <td>개포동</td>\n",
       "      <td>1229-6 1층 101호</td>\n",
       "      <td>5.035289e+10</td>\n",
       "    </tr>\n",
       "  </tbody>\n",
       "</table>\n",
       "</div>"
      ],
      "text/plain": [
       "                 업소명       프랜차이즈명 시/도  군/구 읍/면/동                        상세주소  \\\n",
       "0  당신은지금치킨이땡긴다-논현2호점  당신은지금치킨이땡긴다  서울  강남구   논현동  108 논현웰스톤 지하2층 B201호 주방26호   \n",
       "1  당신은지금치킨이땡긴다-논현2호점  당신은지금치킨이땡긴다  서울  강남구   논현동  108 논현웰스톤 지하2층 B201호 주방26호   \n",
       "2       치킨이맛있는집-개포본점      치킨이맛있는집  서울  강남구   개포동         1222-11 1층 101,102호   \n",
       "3        맘스터치-포이사거리점         맘스터치  서울  강남구   개포동              1229-6 1층 101호   \n",
       "4        맘스터치-포이사거리점         맘스터치  서울  강남구   개포동              1229-6 1층 101호   \n",
       "\n",
       "           전화번호  \n",
       "0  5.035300e+10  \n",
       "1  5.035300e+10  \n",
       "2  5.035258e+10  \n",
       "3  5.035289e+10  \n",
       "4  5.035289e+10  "
      ]
     },
     "execution_count": 51,
     "metadata": {},
     "output_type": "execute_result"
    }
   ],
   "source": [
    "# 결측치 처리 - 대체\n",
    "# 소상공인이 운영하는 매장의 경우, 프랜차이즈가 없을 수도 있음\n",
    "# seoul.업소명.split('-')[0]을 프랜차이즈명에 기재하도록 한다.\n",
    "seoul['프랜차이즈명'] = seoul['업소명'].apply(lambda x: x.split('-')[0])\n",
    "seoul.head()"
   ]
  },
  {
   "cell_type": "code",
   "execution_count": 52,
   "metadata": {},
   "outputs": [
    {
     "data": {
      "text/plain": [
       "업소명         0\n",
       "프랜차이즈명      0\n",
       "시/도         0\n",
       "군/구         0\n",
       "읍/면/동       0\n",
       "상세주소        0\n",
       "전화번호      202\n",
       "dtype: int64"
      ]
     },
     "execution_count": 52,
     "metadata": {},
     "output_type": "execute_result"
    }
   ],
   "source": [
    "seoul.isna().sum()"
   ]
  },
  {
   "cell_type": "markdown",
   "metadata": {},
   "source": [
    "- 전화번호 결측치에 대해서는 어떻게 처리해야 할지 모르겠음"
   ]
  },
  {
   "cell_type": "code",
   "execution_count": 55,
   "metadata": {},
   "outputs": [
    {
     "data": {
      "text/plain": [
       "0       5.035300e+10\n",
       "1       5.035300e+10\n",
       "2       5.035258e+10\n",
       "3       5.035289e+10\n",
       "4       5.035289e+10\n",
       "            ...     \n",
       "1225             NaN\n",
       "1226    5.035260e+10\n",
       "1227    5.071292e+10\n",
       "1228    5.035297e+10\n",
       "1229    5.071298e+10\n",
       "Name: 전화번호, Length: 1230, dtype: float64"
      ]
     },
     "execution_count": 55,
     "metadata": {},
     "output_type": "execute_result"
    }
   ],
   "source": [
    "seoul.전화번호"
   ]
  },
  {
   "cell_type": "code",
   "execution_count": 62,
   "metadata": {},
   "outputs": [
    {
     "data": {
      "text/plain": [
       "프랜차이즈명\n",
       "1인한끼밥상        1\n",
       "402치킨         8\n",
       "60계           9\n",
       "60계치킨        13\n",
       "64겹페스츄리피자    23\n",
       "             ..\n",
       "호남식당          1\n",
       "호식이두마리치킨     19\n",
       "호야닭도리         2\n",
       "혼밥장인          1\n",
       "훌랄라치킨         4\n",
       "Name: 업소명, Length: 186, dtype: int64"
      ]
     },
     "execution_count": 62,
     "metadata": {},
     "output_type": "execute_result"
    }
   ],
   "source": [
    "seoul.groupby('프랜차이즈명')['업소명'].count()"
   ]
  },
  {
   "cell_type": "code",
   "execution_count": 63,
   "metadata": {},
   "outputs": [
    {
     "data": {
      "text/plain": [
       "BBQ                112\n",
       "멕시카나                65\n",
       "BHC                 62\n",
       "피자나라치킨공주            52\n",
       "티바두마리치킨             44\n",
       "                  ... \n",
       "정통매운갈비찜&곱도리탕         1\n",
       "치킨매니아                1\n",
       "아트몬스터수제맥주&치킨&피자      1\n",
       "밥도둑한끼품격              1\n",
       "논현집                  1\n",
       "Name: 프랜차이즈명, Length: 186, dtype: int64"
      ]
     },
     "execution_count": 63,
     "metadata": {},
     "output_type": "execute_result"
    }
   ],
   "source": [
    "# 서울의 프랜차이즈 중 가장 많은 비중을 차지하고 있는 것은 BBQ!\n",
    "seoul.프랜차이즈명.value_counts()"
   ]
  },
  {
   "cell_type": "code",
   "execution_count": 67,
   "metadata": {},
   "outputs": [
    {
     "data": {
      "text/plain": [
       "Mr매운갈비찜&찜닭         1\n",
       "장군식당               1\n",
       "치킨공식               1\n",
       "버들식당               1\n",
       "오름집                1\n",
       "                  ..\n",
       "정통매운갈비찜&곱도리탕       1\n",
       "치킨매니아              1\n",
       "아트몬스터수제맥주&치킨&피자    1\n",
       "밥도둑한끼품격            1\n",
       "논현집                1\n",
       "Name: 프랜차이즈명, Length: 80, dtype: int64"
      ]
     },
     "execution_count": 67,
     "metadata": {},
     "output_type": "execute_result"
    }
   ],
   "source": [
    "# 프랜차이즈가 아닌 치킨집은 총 80곳\n",
    "no_fran = seoul.프랜차이즈명.value_counts()\n",
    "no_fran[ no_fran < 2 ]"
   ]
  },
  {
   "cell_type": "code",
   "execution_count": 64,
   "metadata": {},
   "outputs": [
    {
     "name": "stderr",
     "output_type": "stream",
     "text": [
      "C:\\ProgramData\\Anaconda3\\lib\\site-packages\\seaborn\\_decorators.py:36: FutureWarning: Pass the following variable as a keyword arg: x. From version 0.12, the only valid positional argument will be `data`, and passing other arguments without an explicit keyword will result in an error or misinterpretation.\n",
      "  warnings.warn(\n"
     ]
    },
    {
     "data": {
      "text/plain": [
       "(array([ 0,  1,  2,  3,  4,  5,  6,  7,  8,  9, 10, 11, 12, 13]),\n",
       " [Text(0, 0, '논현동'),\n",
       "  Text(1, 0, '개포동'),\n",
       "  Text(2, 0, '도곡동'),\n",
       "  Text(3, 0, '대치동'),\n",
       "  Text(4, 0, '역삼동'),\n",
       "  Text(5, 0, '신사동'),\n",
       "  Text(6, 0, '삼성동'),\n",
       "  Text(7, 0, '자곡동'),\n",
       "  Text(8, 0, '세곡동'),\n",
       "  Text(9, 0, '일원동'),\n",
       "  Text(10, 0, '수서동'),\n",
       "  Text(11, 0, '청담동'),\n",
       "  Text(12, 0, '압구정동'),\n",
       "  Text(13, 0, '율현동')])"
      ]
     },
     "execution_count": 64,
     "metadata": {},
     "output_type": "execute_result"
    },
    {
     "data": {
      "image/png": "[encoded data removed]",
      "text/plain": [
       "<Figure size 720x360 with 1 Axes>"
      ]
     },
     "metadata": {
      "image/png": {
       "height": 347,
       "width": 610
      },
      "needs_background": "light"
     },
     "output_type": "display_data"
    }
   ],
   "source": [
    "plt.figure(figsize=(10,5))\n",
    "sns.countplot(seoul['읍/면/동'], palette='icefire')\n",
    "plt.xticks(rotation=90)"
   ]
  },
  {
   "cell_type": "code",
   "execution_count": null,
   "metadata": {},
   "outputs": [],
   "source": []
  }
 ],
 "metadata": {
  "interpreter": {
   "hash": "b3ba2566441a7c06988d0923437866b63cedc61552a5af99d1f4fb67d367b25f"
  },
  "kernelspec": {
   "display_name": "Python 3.8.8 64-bit ('base': conda)",
   "language": "python",
   "name": "python3"
  },
  "language_info": {
   "codemirror_mode": {
    "name": "ipython",
    "version": 3
   },
   "file_extension": ".py",
   "mimetype": "text/x-python",
   "name": "python",
   "nbconvert_exporter": "python",
   "pygments_lexer": "ipython3",
   "version": "3.8.8"
  },
  "orig_nbformat": 4
 },
 "nbformat": 4,
 "nbformat_minor": 2
}
