{
 "cells": [
  {
   "cell_type": "code",
   "execution_count": 1,
   "metadata": {},
   "outputs": [],
   "source": [
    "import numpy as np\n",
    "import pandas as pd"
   ]
  },
  {
   "cell_type": "code",
   "execution_count": 2,
   "metadata": {},
   "outputs": [
    {
     "data": {
      "text/html": [
       "<div>\n",
       "<style scoped>\n",
       "    .dataframe tbody tr th:only-of-type {\n",
       "        vertical-align: middle;\n",
       "    }\n",
       "\n",
       "    .dataframe tbody tr th {\n",
       "        vertical-align: top;\n",
       "    }\n",
       "\n",
       "    .dataframe thead th {\n",
       "        text-align: right;\n",
       "    }\n",
       "</style>\n",
       "<table border=\"1\" class=\"dataframe\">\n",
       "  <thead>\n",
       "    <tr style=\"text-align: right;\">\n",
       "      <th></th>\n",
       "      <th>업소명</th>\n",
       "      <th>프랜차이즈명</th>\n",
       "      <th>시/도</th>\n",
       "      <th>군/구</th>\n",
       "      <th>읍/면/동</th>\n",
       "      <th>상세주소</th>\n",
       "      <th>전화번호</th>\n",
       "    </tr>\n",
       "  </thead>\n",
       "  <tbody>\n",
       "    <tr>\n",
       "      <th>0</th>\n",
       "      <td>당신은지금치킨이땡긴다-논현2호점</td>\n",
       "      <td>당신은지금치킨이땡긴다</td>\n",
       "      <td>서울</td>\n",
       "      <td>강남구</td>\n",
       "      <td>논현동</td>\n",
       "      <td>108 논현웰스톤 지하2층 B201호 주방26호</td>\n",
       "      <td>5.035300e+10</td>\n",
       "    </tr>\n",
       "    <tr>\n",
       "      <th>1</th>\n",
       "      <td>당신은지금치킨이땡긴다-논현2호점</td>\n",
       "      <td>당신은지금치킨이땡긴다</td>\n",
       "      <td>서울</td>\n",
       "      <td>강남구</td>\n",
       "      <td>논현동</td>\n",
       "      <td>108 논현웰스톤 지하2층 B201호 주방26호</td>\n",
       "      <td>5.035300e+10</td>\n",
       "    </tr>\n",
       "    <tr>\n",
       "      <th>2</th>\n",
       "      <td>치킨이맛있는집-개포본점</td>\n",
       "      <td>NaN</td>\n",
       "      <td>서울</td>\n",
       "      <td>강남구</td>\n",
       "      <td>개포동</td>\n",
       "      <td>1222-11 1층 101,102호</td>\n",
       "      <td>5.035258e+10</td>\n",
       "    </tr>\n",
       "    <tr>\n",
       "      <th>3</th>\n",
       "      <td>맘스터치-포이사거리점</td>\n",
       "      <td>맘스터치</td>\n",
       "      <td>서울</td>\n",
       "      <td>강남구</td>\n",
       "      <td>개포동</td>\n",
       "      <td>1229-6 1층 101호</td>\n",
       "      <td>5.035289e+10</td>\n",
       "    </tr>\n",
       "    <tr>\n",
       "      <th>4</th>\n",
       "      <td>맘스터치-포이사거리점</td>\n",
       "      <td>맘스터치</td>\n",
       "      <td>서울</td>\n",
       "      <td>강남구</td>\n",
       "      <td>개포동</td>\n",
       "      <td>1229-6 1층 101호</td>\n",
       "      <td>5.035289e+10</td>\n",
       "    </tr>\n",
       "  </tbody>\n",
       "</table>\n",
       "</div>"
      ],
      "text/plain": [
       "                 업소명       프랜차이즈명 시/도  군/구 읍/면/동                        상세주소  \\\n",
       "0  당신은지금치킨이땡긴다-논현2호점  당신은지금치킨이땡긴다  서울  강남구   논현동  108 논현웰스톤 지하2층 B201호 주방26호   \n",
       "1  당신은지금치킨이땡긴다-논현2호점  당신은지금치킨이땡긴다  서울  강남구   논현동  108 논현웰스톤 지하2층 B201호 주방26호   \n",
       "2       치킨이맛있는집-개포본점          NaN  서울  강남구   개포동         1222-11 1층 101,102호   \n",
       "3        맘스터치-포이사거리점         맘스터치  서울  강남구   개포동              1229-6 1층 101호   \n",
       "4        맘스터치-포이사거리점         맘스터치  서울  강남구   개포동              1229-6 1층 101호   \n",
       "\n",
       "           전화번호  \n",
       "0  5.035300e+10  \n",
       "1  5.035300e+10  \n",
       "2  5.035258e+10  \n",
       "3  5.035289e+10  \n",
       "4  5.035289e+10  "
      ]
     },
     "execution_count": 2,
     "metadata": {},
     "output_type": "execute_result"
    }
   ],
   "source": [
    "seoul = pd.read_excel('서울_치킨업소_정보.xlsx')\n",
    "seoul.head()"
   ]
  },
  {
   "cell_type": "code",
   "execution_count": null,
   "metadata": {},
   "outputs": [],
   "source": []
  }
 ],
 "metadata": {
  "interpreter": {
   "hash": "b3ba2566441a7c06988d0923437866b63cedc61552a5af99d1f4fb67d367b25f"
  },
  "kernelspec": {
   "display_name": "Python 3.8.8 64-bit ('base': conda)",
   "language": "python",
   "name": "python3"
  },
  "language_info": {
   "codemirror_mode": {
    "name": "ipython",
    "version": 3
   },
   "file_extension": ".py",
   "mimetype": "text/x-python",
   "name": "python",
   "nbconvert_exporter": "python",
   "pygments_lexer": "ipython3",
   "version": "3.8.8"
  },
  "orig_nbformat": 4
 },
 "nbformat": 4,
 "nbformat_minor": 2
}
